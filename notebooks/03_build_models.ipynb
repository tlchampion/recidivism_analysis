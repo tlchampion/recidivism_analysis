{
 "cells": [
  {
   "cell_type": "code",
   "execution_count": 7,
   "id": "205b636f-3b99-42c7-a3bd-c2d7073be16d",
   "metadata": {},
   "outputs": [],
   "source": [
    "import pandas as pd\n",
    "import matplotlib.pyplot as plt\n",
    "import math\n",
    "import numpy as np\n",
    "import matplotlib.gridspec as gridspec\n",
    "import seaborn as sns\n",
    "from dython import nominal\n",
    "from scipy.stats import ttest_ind\n",
    "from scipy.stats import chi2_contingency\n",
    "from sklearn.preprocessing import OneHotEncoder\n",
    "from sklearn.compose import ColumnTransformer\n",
    "from sklearn.base import BaseEstimator, TransformerMixin\n",
    "from sklearn.utils.validation import check_is_fitted\n",
    "from sklearn.preprocessing import LabelEncoder\n",
    "from sklearn.model_selection import train_test_split\n",
    "from sklearn.preprocessing import OrdinalEncoder\n",
    "from sklearn.impute import SimpleImputer\n",
    "from sklearn.compose import make_column_transformer\n",
    "from sklearn.pipeline import make_pipeline\n",
    "from sklearn.pipeline import Pipeline\n",
    "from sklearn.preprocessing import StandardScaler\n",
    "from sklearn.model_selection import GridSearchCV\n",
    "from sklearn.model_selection import RandomizedSearchCV"
   ]
  },
  {
   "cell_type": "code",
   "execution_count": 8,
   "id": "98a36ead-d903-4701-94f6-88fd325543ed",
   "metadata": {},
   "outputs": [],
   "source": [
    "from sklearn.neighbors import KNeighborsClassifier\n",
    "from sklearn.metrics import brier_score_loss\n",
    "from sklearn.metrics import f1_score\n",
    "from sklearn.metrics import precision_score\n",
    "from sklearn.metrics import recall_score\n",
    "from sklearn.metrics import roc_auc_score\n",
    "from sklearn.metrics import roc_curve\n",
    "from sklearn.metrics import RocCurveDisplay\n",
    "from sklearn.linear_model import LogisticRegression\n",
    "from sklearn.model_selection import RepeatedStratifiedKFold\n",
    "from sklearn.model_selection import StratifiedKFold\n",
    "from sklearn.tree import DecisionTreeClassifier\n",
    "from sklearn.tree import plot_tree\n",
    "from sklearn.ensemble import RandomForestClassifier\n",
    "from sklearn.tree import export_graphviz\n",
    "import warnings\n",
    "from sklearn.svm import LinearSVC\n",
    "from sklearn.linear_model import SGDClassifier\n",
    "import xgboost as xgb\n",
    "import joblib\n",
    "from sklearn.decomposition import PCA\n",
    "from sklearn.feature_selection import SelectKBest\n",
    "import os"
   ]
  },
  {
   "cell_type": "code",
   "execution_count": 9,
   "id": "8fddb1e4-0c1b-4181-af6a-aff7697c1b85",
   "metadata": {},
   "outputs": [],
   "source": [
    "basedir = os.path.abspath(os.path.join(os.getcwd(), os.pardir))\n",
    "raw_datadir = os.path.join(basedir,'data','01_raw')\n",
    "interim_datadir = os.path.join(basedir,'data','02_interim')\n",
    "processed_datadir = os.path.join(basedir,'data','03_processed')\n",
    "modelsdir = os.path.join(basedir,'models')"
   ]
  },
  {
   "cell_type": "code",
   "execution_count": 10,
   "id": "dbced5d3-0622-4190-bacb-851b2e85817e",
   "metadata": {},
   "outputs": [
    {
     "name": "stdout",
     "output_type": "stream",
     "text": [
      "X_train: (19920, 42)\n",
      "X_test: (4980, 42)\n",
      "y_train: (19920,)\n",
      "y_test: (4980,)\n"
     ]
    }
   ],
   "source": [
    "xtrain_path = os.path.join(processed_datadir, \"Xtrain.csv\")\n",
    "xtest_path = os.path.join(processed_datadir, \"Xtest.csv\")\n",
    "ytrain_path = os.path.join(processed_datadir, \"ytrain.csv\")\n",
    "ytest_path = os.path.join(processed_datadir, \"ytest.csv\")\n",
    "\n",
    "X_train = pd.read_csv(xtrain_path)\n",
    "X_test = pd.read_csv(xtest_path)\n",
    "y_train = pd.read_csv(ytrain_path, squeeze=True)\n",
    "y_test = pd.read_csv(ytest_path, squeeze=True)\n",
    "\n",
    "print(\"X_train:\",X_train.shape)\n",
    "print(\"X_test:\",X_test.shape)\n",
    "print(\"y_train:\",y_train.shape)\n",
    "print(\"y_test:\",y_test.shape)"
   ]
  },
  {
   "cell_type": "code",
   "execution_count": 11,
   "id": "68b6e2a7-ee34-4dbe-9f09-ccd463f4ee42",
   "metadata": {},
   "outputs": [
    {
     "name": "stdout",
     "output_type": "stream",
     "text": [
      "Age_at_Release                              [28-32, 38-42, 43-47, 33-37, 23-27, 48 or olde...\n",
      "Education_Level                             [Less than HS diploma, At least some college, ...\n",
      "Dependents                                                               [2, 3 or more, 1, 0]\n",
      "Prison_Years                                [More than 3 years, Less than 1 year, 1-2 year...\n",
      "Prior_Arrest_Episodes_Felony                       [6, 2, 5, 4, 10 or more, 3, 9, 1, 7, 8, 0]\n",
      "Prior_Arrest_Episodes_Misd                                      [3, 6 or more, 1, 0, 4, 2, 5]\n",
      "Prior_Arrest_Episodes_Violent                                            [1, 0, 2, 3 or more]\n",
      "Prior_Arrest_Episodes_Property                                     [1, 2, 3, 0, 5 or more, 4]\n",
      "Prior_Arrest_Episodes_Drug                                         [4, 1, 2, 0, 3, 5 or more]\n",
      "Prior_Arrest_Episodes_PPViolationCharges                           [3, 5 or more, 1, 0, 2, 4]\n",
      "Prior_Conviction_Episodes_Felony                                         [2, 1, 3 or more, 0]\n",
      "Prior_Conviction_Episodes_Misd                                        [1, 4 or more, 0, 3, 2]\n",
      "Prior_Conviction_Episodes_Prop                                           [1, 2, 0, 3 or more]\n",
      "Prior_Conviction_Episodes_Drug                                              [2 or more, 1, 0]\n",
      "Delinquency_Reports                                                   [0, 4 or more, 3, 1, 2]\n",
      "Program_Attendances                                [4, 0, 10 or more, 5, 1, 7, 2, 6, 9, 3, 8]\n",
      "Program_UnexcusedAbsences                                                [0, 1, 3 or more, 2]\n",
      "Residence_Changes                                                        [1, 0, 2, 3 or more]\n",
      "Drug_Test_Results                                               [Positive, Negative, Unknown]\n",
      "Percent_Days_Employed                             [None, More Than Half, Less Than Half, All]\n",
      "dtype: object\n"
     ]
    }
   ],
   "source": [
    "columns = ['Age_at_Release',\n",
    "'Education_Level',\n",
    "'Dependents',\n",
    "'Prison_Years',\n",
    "'Prior_Arrest_Episodes_Felony',\n",
    "'Prior_Arrest_Episodes_Misd',\n",
    "'Prior_Arrest_Episodes_Violent',\n",
    "'Prior_Arrest_Episodes_Property',\n",
    "'Prior_Arrest_Episodes_Drug',\n",
    "'Prior_Arrest_Episodes_PPViolationCharges',\n",
    "'Prior_Conviction_Episodes_Felony',\n",
    "'Prior_Conviction_Episodes_Misd',\n",
    "'Prior_Conviction_Episodes_Prop',\n",
    "'Prior_Conviction_Episodes_Drug',\n",
    "'Delinquency_Reports',\n",
    "'Program_Attendances',\n",
    "'Program_UnexcusedAbsences',\n",
    "'Residence_Changes',\n",
    "'Drug_Test_Results',\n",
    "'Percent_Days_Employed']\n",
    "result = pd.Series({c: X_train[columns][c].unique() for c in X_train[columns]})\n",
    "print(result)"
   ]
  },
  {
   "cell_type": "code",
   "execution_count": 12,
   "id": "88f0138b-cf8c-4444-920f-98c7be7a879e",
   "metadata": {},
   "outputs": [],
   "source": [
    "class GroupImputer(BaseEstimator, TransformerMixin):\n",
    "    '''\n",
    "    Class used for imputing missing values in a pd.DataFrame using either mean or median of a group.\n",
    "    \n",
    "    Parameters\n",
    "    ----------    \n",
    "    group_cols : list\n",
    "        List of columns used for calculating the aggregated value \n",
    "    target : str\n",
    "        The name of the column to impute\n",
    "    metric : str\n",
    "        The metric to be used for remplacement, can be one of ['mean', 'median']\n",
    "\n",
    "    Returns\n",
    "    -------\n",
    "    X : array-like\n",
    "        The array with imputed values in the target column\n",
    "    '''\n",
    "    def __init__(self, group_cols, target, metric='mean'):\n",
    "        \n",
    "        assert metric in ['mean', 'median'], 'Unrecognized value for metric, should be mean/median'\n",
    "        assert type(group_cols) == list, 'group_cols should be a list of columns'\n",
    "        assert type(target) == str, 'target should be a string'\n",
    "        \n",
    "        self.group_cols = group_cols\n",
    "        self.target = target\n",
    "        self.metric = metric\n",
    "    \n",
    "    def fit(self, X, y=None):\n",
    "        \n",
    "        assert pd.isnull(X[self.group_cols]).any(axis=None) == False, 'There are missing values in group_cols'\n",
    "        \n",
    "        impute_map = X.groupby(self.group_cols)[self.target].agg(self.metric) \\\n",
    "                                                            .reset_index(drop=False)\n",
    "        \n",
    "        self.impute_map_ = impute_map\n",
    "        \n",
    "        return self \n",
    "    \n",
    "    def transform(self, X, y=None):\n",
    "        \n",
    "        # make sure that the imputer was fitted\n",
    "        check_is_fitted(self, 'impute_map_')\n",
    "        \n",
    "        X = X.copy()\n",
    "        \n",
    "        for index, row in self.impute_map_.iterrows():\n",
    "            ind = (X[self.group_cols] == row[self.group_cols]).all(axis=1)\n",
    "            X.loc[ind, self.target] = X.loc[ind, self.target].fillna(row[self.target])\n",
    "        \n",
    "        return X.values\n",
    "\n"
   ]
  },
  {
   "cell_type": "markdown",
   "id": "216b87a3-22ac-4e68-8303-76d697fea4b7",
   "metadata": {},
   "source": [
    "## Create imputers\n",
    "* imputer Avg_Days_per_DrugTest based upon column mean"
   ]
  },
  {
   "cell_type": "code",
   "execution_count": 13,
   "id": "577fbd2e-0a25-4580-973d-47adec3b0e26",
   "metadata": {},
   "outputs": [],
   "source": [
    "\n",
    "simpleImputer = SimpleImputer()"
   ]
  },
  {
   "cell_type": "markdown",
   "id": "1f326761-3586-42d5-9fde-e9545716537f",
   "metadata": {},
   "source": [
    "## Create Encoders"
   ]
  },
  {
   "cell_type": "markdown",
   "id": "9e13dbd6-d1ed-449b-b0cd-fac8ef7fccee",
   "metadata": {},
   "source": [
    "### One Hot Encoder"
   ]
  },
  {
   "cell_type": "code",
   "execution_count": 14,
   "id": "145cce2e-3cc1-40fd-9413-cbbde74d2a8b",
   "metadata": {},
   "outputs": [],
   "source": [
    "oneHot = OneHotEncoder(drop='if_binary')\n",
    "\n"
   ]
  },
  {
   "cell_type": "markdown",
   "id": "ccc5c488-2ede-4299-a1b7-0be154ee67c3",
   "metadata": {},
   "source": [
    "### Ordinal Encoder\n",
    "\n",
    "#### Define order for categories and create encoder"
   ]
  },
  {
   "cell_type": "code",
   "execution_count": 15,
   "id": "e315a313-3c35-4cb3-94ce-9d574cc5f69e",
   "metadata": {},
   "outputs": [],
   "source": [
    "ageList = ['18-22','23-27','28-32','33-37','38-42','43-47','48 or older']\n",
    "education = ['Less than HS diploma','High School Diploma', 'At least some college']\n",
    "dependents = ['0', '1', '2', '3 or more']\n",
    "prisonYears = ['Less than 1 year', '1-2 years', 'Greater than 2 to 3 years','More than 3 years']\n",
    "felony = ['0', '1', '2', '3', '4','5', '6', '7', '8', '9', '10 or more']\n",
    "misd = ['0','1','2','3','4','5','6 or more']\n",
    "violent = ['0','1','2', '3 or more']\n",
    "prop = ['0','1','2','3','4','5 or more']\n",
    "drug = ['0','1','2','3','4','5 or more']\n",
    "ppviolation = ['0','1','2','3','4','5 or more']\n",
    "felony2 = ['0', '1', '2', '3 or more']\n",
    "misd2 = ['0','1', '2', '3', '4 or more']\n",
    "prop2 = ['0', '1', '2', '3 or more']\n",
    "drug2 = ['0','1', '2 or more']\n",
    "delinquency = ['0' ,'1', '2','3', '4 or more']\n",
    "attendances = ['0','1','2','3','4','5', '6','7','8','9', '10 or more']\n",
    "unexcused = ['0', '1', '2', '3 or more']\n",
    "residence = ['0','1','2', '3 or more']\n",
    "employment = ['None', 'Less Than Half', 'More Than Half', 'All']\n",
    " \n",
    "ordinalEnc = OrdinalEncoder(categories=[ageList,education,dependents,\n",
    "                                        prisonYears,felony,misd,violent,prop,drug,\n",
    "                                        ppviolation,felony2,misd2,prop2,drug2,\n",
    "                                        delinquency,attendances,unexcused,\n",
    "                                        residence,employment])"
   ]
  },
  {
   "cell_type": "code",
   "execution_count": 16,
   "id": "ba024147-189b-4ec0-bc71-726f2e1fde2c",
   "metadata": {},
   "outputs": [],
   "source": [
    "ordlist = ['Age_at_Release','Education_Level',\n",
    "'Dependents','Prison_Years','Prior_Arrest_Episodes_Felony',\n",
    "'Prior_Arrest_Episodes_Misd','Prior_Arrest_Episodes_Violent',\n",
    "'Prior_Arrest_Episodes_Property','Prior_Arrest_Episodes_Drug',\n",
    "'Prior_Arrest_Episodes_PPViolationCharges','Prior_Conviction_Episodes_Felony',\n",
    "'Prior_Conviction_Episodes_Misd','Prior_Conviction_Episodes_Prop',\n",
    "'Prior_Conviction_Episodes_Drug','Delinquency_Reports',\n",
    "'Program_Attendances','Program_UnexcusedAbsences',\n",
    "'Residence_Changes','Percent_Days_Employed']\n",
    "\n",
    "onehotlist = ['Gender','Race','Residence_PUMA','Gang_Affiliated',\n",
    "'Supervision_Level_First','Prison_Offense','Prior_Arrest_Episodes_DVCharges',\n",
    "'Prior_Arrest_Episodes_GunCharges','Prior_Conviction_Episodes_Viol',\n",
    "'Prior_Conviction_Episodes_PPViolationCharges','Prior_Conviction_Episodes_DomesticViolenceCharges',\n",
    "'Prior_Conviction_Episodes_GunCharges','Prior_Revocations_Parole',\n",
    "'Prior_Revocations_Probation','Condition_MH_SA','Condition_Cog_Ed',\n",
    "'Condition_Other','Violations_Instruction',\n",
    "'Violations_FailToReport','Violations_MoveWithoutPermission',\n",
    "'Employment_Exempt','Drug_Test_Results']\n",
    "\n",
    "scalerlist = ['Supervision_Risk_Score_First']"
   ]
  },
  {
   "cell_type": "markdown",
   "id": "c8d8a3c1-61e3-402f-81d5-e8b4461f12eb",
   "metadata": {},
   "source": [
    "## Define Standard Scaler"
   ]
  },
  {
   "cell_type": "code",
   "execution_count": 17,
   "id": "9c9835eb-fe66-49ce-8977-7c41db632781",
   "metadata": {},
   "outputs": [],
   "source": [
    "scaler = StandardScaler()"
   ]
  },
  {
   "cell_type": "markdown",
   "id": "4d13b5a1-9f72-457e-8ce6-0920d11b6009",
   "metadata": {},
   "source": [
    "## Define Column Transformer for use in models"
   ]
  },
  {
   "cell_type": "code",
   "execution_count": 18,
   "id": "d95e29d6-9041-4844-867c-bd0d9ef85da7",
   "metadata": {},
   "outputs": [],
   "source": [
    "\n",
    "\n",
    "ct = ColumnTransformer([('ordinal',ordinalEnc,ordlist),\n",
    "                       ('oneHot',oneHot,onehotlist),\n",
    "                        ('scaler', scaler, ['Supervision_Risk_Score_First'])\n",
    "                        ], \n",
    "                       remainder='passthrough')\n",
    "\n",
    "ct2 = ColumnTransformer([\n",
    "                        ('scaler', scaler, ['Supervision_Risk_Score_First'])\n",
    "                        ], \n",
    "                       remainder='passthrough')"
   ]
  },
  {
   "cell_type": "markdown",
   "id": "d9d66ab7-db10-45de-b5e1-56e64f505dee",
   "metadata": {},
   "source": [
    "# Model Building"
   ]
  },
  {
   "cell_type": "markdown",
   "id": "eb3315ac-3e11-44e0-805c-495bac35c5e6",
   "metadata": {},
   "source": [
    "## Define function to calculate scores and produce ROC curve\n",
    "## Define common variables for use in all models"
   ]
  },
  {
   "cell_type": "code",
   "execution_count": 19,
   "id": "664d75b1-15e9-451a-9c3d-e46bb0b188fc",
   "metadata": {},
   "outputs": [],
   "source": [
    "def calc_scores(model,X_test,y_test,estimator_name):\n",
    "    proba = model.predict_proba(X_test)\n",
    "    preds = model.predict(X_test)\n",
    "    pos_proba = proba[:,1]\n",
    "    bs = brier_score_loss(y_test, pos_proba)\n",
    "    f1 = f1_score(y_test,preds)\n",
    "    rs = recall_score(y_test,preds)\n",
    "    ps = precision_score(y_test,preds)\n",
    "    roc = roc_auc_score(y_test, preds)\n",
    "    fpr, tpr, thresholds = roc_curve(y_test,preds)\n",
    "    # display = RocCurveDisplay(fpr=fpr, tpr=tpr, roc_auc=roc,estimator_name=estimator_name)\n",
    "    display = RocCurveDisplay.from_predictions(preds,y_test,name=estimator_name)\n",
    "    scores = [bs, f1, rs, ps, roc]\n",
    "    return scores, display\n",
    "\n",
    "tests = ['Brier Score', 'F1 Score', 'Recall', 'Precision', 'ROC_AUC']\n",
    "cv = RepeatedStratifiedKFold(n_splits=10, n_repeats=3, random_state=3)\n",
    "cv = StratifiedKFold(n_splits=10)"
   ]
  },
  {
   "cell_type": "markdown",
   "id": "94ed4c99-0ae9-4a58-a1f5-6f1c5afede99",
   "metadata": {},
   "source": [
    "## Initialize PCA and define parameters for grid search\n"
   ]
  },
  {
   "cell_type": "code",
   "execution_count": 20,
   "id": "c560b855-a6fd-4ae2-8d41-3949419d4b7d",
   "metadata": {},
   "outputs": [],
   "source": [
    "pca = PCA()\n",
    "pca_params = {'pca__n_components':['mle', .2, .4, .6, .8], 'pca__svd_solver': ['full']}"
   ]
  },
  {
   "cell_type": "markdown",
   "id": "454d2dae-958a-4857-babb-12ca285a95f2",
   "metadata": {},
   "source": [
    "## K-Nearest Neighbors"
   ]
  },
  {
   "cell_type": "code",
   "execution_count": 21,
   "id": "d561ac97-7f40-4806-a233-718a946ca6b3",
   "metadata": {},
   "outputs": [],
   "source": [
    "knn_model = KNeighborsClassifier()\n",
    "knn_model_pca = KNeighborsClassifier()\n",
    "knn_pipeline = Pipeline([(\"columnTransformer\",ct),(\"knn\", knn_model)])\n",
    "knn_pipeline_pca = Pipeline([(\"columnTransformer\",ct),('pca', pca),(\"knn\", knn_model_pca)])"
   ]
  },
  {
   "cell_type": "code",
   "execution_count": 22,
   "id": "af3744bf-3a35-46b2-ad05-e8b210f42586",
   "metadata": {},
   "outputs": [],
   "source": [
    "knn_params = {'knn__n_neighbors':[5,10,15,20], 'knn__metric':['minkowski', 'chebyshev']}\n",
    "knn_params_pca = {**knn_params, **pca_params}"
   ]
  },
  {
   "cell_type": "code",
   "execution_count": 23,
   "id": "0b4d00ef-fe65-4a01-9524-a38e39768fe4",
   "metadata": {},
   "outputs": [],
   "source": [
    "knn_cv = GridSearchCV(knn_pipeline, knn_params, scoring='neg_brier_score', n_jobs=-1, cv=cv)"
   ]
  },
  {
   "cell_type": "code",
   "execution_count": 24,
   "id": "cb1da86b-75bf-4c31-88e1-4a2528d0d7eb",
   "metadata": {},
   "outputs": [
    {
     "data": {
      "text/plain": [
       "['/Users/thomaschampion/Dropbox/Programming/Projects/recidivism/models/model_knn.pkl']"
      ]
     },
     "execution_count": 24,
     "metadata": {},
     "output_type": "execute_result"
    }
   ],
   "source": [
    "knn_cv.fit(X_train,y_train)\n",
    "joblib.dump(knn_cv.best_estimator_, os.path.join(modelsdir,\"model_knn.pkl\"))"
   ]
  },
  {
   "cell_type": "code",
   "execution_count": 58,
   "id": "3ef5eabb-4fde-41a1-a77e-4893052c0c8f",
   "metadata": {},
   "outputs": [
    {
     "data": {
      "text/plain": [
       "['../models/knn_pca.pkl']"
      ]
     },
     "execution_count": 58,
     "metadata": {},
     "output_type": "execute_result"
    }
   ],
   "source": [
    "knn_pca_cv = GridSearchCV(knn_pipeline_pca, knn_params_pca, scoring='neg_brier_score', n_jobs=-1, cv=cv)\n",
    "knn_pca_cv.fit(X_train, y_train)\n",
    "joblib.dump(knn_pca_cv.best_estimator_, os.path.join(modelsdir,'model_knn_pca.pkl'))"
   ]
  },
  {
   "cell_type": "code",
   "execution_count": 59,
   "id": "8e5c3bc3-03ba-4ff6-ab30-f8bf66516fd3",
   "metadata": {},
   "outputs": [
    {
     "data": {
      "image/png": "[encoded data removed]",
      "text/plain": [
       "<Figure size 432x288 with 1 Axes>"
      ]
     },
     "metadata": {
      "needs_background": "light"
     },
     "output_type": "display_data"
    },
    {
     "data": {
      "image/png": "[encoded data removed]",
      "text/plain": [
       "<Figure size 432x288 with 1 Axes>"
      ]
     },
     "metadata": {
      "needs_background": "light"
     },
     "output_type": "display_data"
    }
   ],
   "source": [
    "knn_scores, knn_display = calc_scores(knn_cv, X_test, y_test, 'KNN')\n",
    "knn_scores_pca, knn_display_pca = calc_scores(knn_pca_cv, X_test, y_test, 'KNN')"
   ]
  },
  {
   "cell_type": "code",
   "execution_count": 60,
   "id": "ac171b94-6f08-4585-873f-02da6cebd966",
   "metadata": {},
   "outputs": [
    {
     "name": "stdout",
     "output_type": "stream",
     "text": [
      "                  KNN\n",
      "Brier Score  0.208995\n",
      "F1 Score     0.725716\n",
      "Recall       0.754795\n",
      "Precision    0.698795\n",
      "ROC_AUC      0.646815\n",
      "                  KNN\n",
      "Brier Score  0.209037\n",
      "F1 Score     0.728947\n",
      "Recall       0.758904\n",
      "Precision    0.701266\n",
      "ROC_AUC      0.650326\n"
     ]
    }
   ],
   "source": [
    "print(pd.DataFrame(knn_scores, index=tests, columns=['KNN']))\n",
    "print(pd.DataFrame(knn_scores_pca, index=tests, columns=['KNN']))"
   ]
  },
  {
   "cell_type": "code",
   "execution_count": 19,
   "id": "08d7af69-7bc4-41a9-881e-6adac4b8fef4",
   "metadata": {},
   "outputs": [
    {
     "data": {
      "image/png": "[encoded data removed]",
      "text/plain": [
       "<Figure size 432x288 with 1 Axes>"
      ]
     },
     "metadata": {
      "needs_background": "light"
     },
     "output_type": "display_data"
    }
   ],
   "source": [
    "fig, ax = plt.subplots()\n",
    "knn_display.plot(ax=ax)\n",
    "ax.set_title(\"ROC-AUC Curve\")\n",
    "plt.show()"
   ]
  },
  {
   "cell_type": "markdown",
   "id": "8c3f17c7-d0ef-4122-b20d-005f6edb300a",
   "metadata": {},
   "source": [
    "## Logistic Regression with Elastic Net Regularization"
   ]
  },
  {
   "cell_type": "code",
   "execution_count": 30,
   "id": "d718af29-0531-4fa9-8c55-6e6ef2e0f523",
   "metadata": {},
   "outputs": [],
   "source": [
    "lr_model = LogisticRegression()\n",
    "lr_model_pca = LogisticRegression()\n",
    "lr_params = {'lr__warm_start': [True, False],'lr__penalty':['elasticnet'],'lr__C':[0.01, 0.05, 0.1, 0.15,0.25, 0.5, 1.0],'lr__solver':['saga'], 'lr__max_iter':[5000], 'lr__l1_ratio':np.linspace(0,1,20,True)}\n",
    "lr_params_pca = {**lr_params, **pca_params}\n",
    "lr_pipeline = Pipeline([(\"columnTransformer\",ct),(\"lr\", lr_model)])\n",
    "lr_pipeline_pca = Pipeline([(\"columnTransformer\",ct),('pca', pca),(\"lr\", lr_model_pca)])"
   ]
  },
  {
   "cell_type": "code",
   "execution_count": 31,
   "id": "adce9a97-b2c1-4ce8-821a-439b6b3bc1f6",
   "metadata": {},
   "outputs": [
    {
     "data": {
      "text/plain": [
       "GridSearchCV(cv=StratifiedKFold(n_splits=10, random_state=None, shuffle=False),\n",
       "             estimator=Pipeline(steps=[('columnTransformer',\n",
       "                                        ColumnTransformer(remainder='passthrough',\n",
       "                                                          transformers=[('ordinal',\n",
       "                                                                         OrdinalEncoder(categories=[['18-22',\n",
       "                                                                                                     '23-27',\n",
       "                                                                                                     '28-32',\n",
       "                                                                                                     '33-37',\n",
       "                                                                                                     '38-42',\n",
       "                                                                                                     '43-47',\n",
       "                                                                                                     '48 '\n",
       "                                                                                                     'or '\n",
       "                                                                                                     'older'],\n",
       "                                                                                                    ['Less '\n",
       "                                                                                                     'than '\n",
       "                                                                                                     'HS '\n",
       "                                                                                                     'diploma',\n",
       "                                                                                                     'High '\n",
       "                                                                                                     'School '\n",
       "                                                                                                     'Diploma',\n",
       "                                                                                                     'At '\n",
       "                                                                                                     'least '\n",
       "                                                                                                     'som...\n",
       "                                                                         StandardScaler(),\n",
       "                                                                         ['Supervision_Risk_Score_First'])])),\n",
       "                                       ('lr', LogisticRegression())]),\n",
       "             n_jobs=-1,\n",
       "             param_grid={'lr__C': [0.01, 0.1, 1.0, 10, 100],\n",
       "                         'lr__l1_ratio': array([0.        , 0.11111111, 0.22222222, 0.33333333, 0.44444444,\n",
       "       0.55555556, 0.66666667, 0.77777778, 0.88888889, 1.        ]),\n",
       "                         'lr__max_iter': [5000], 'lr__penalty': ['elasticnet'],\n",
       "                         'lr__solver': ['saga']},\n",
       "             scoring='neg_brier_score')"
      ]
     },
     "execution_count": 31,
     "metadata": {},
     "output_type": "execute_result"
    }
   ],
   "source": [
    "lr_cv = GridSearchCV(lr_pipeline, lr_params, scoring='neg_brier_score', n_jobs=-1,cv=cv)\n",
    "lr_cv.fit(X_train, y_train)"
   ]
  },
  {
   "cell_type": "code",
   "execution_count": 22,
   "id": "c34fef1d-1db8-4271-b5cf-4390a8573b59",
   "metadata": {
    "tags": []
   },
   "outputs": [
    {
     "data": {
      "text/plain": [
       "GridSearchCV(cv=RepeatedStratifiedKFold(n_repeats=3, n_splits=10, random_state=3),\n",
       "             estimator=Pipeline(steps=[('columnTransformer',\n",
       "                                        ColumnTransformer(remainder='passthrough',\n",
       "                                                          transformers=[('ordinal',\n",
       "                                                                         OrdinalEncoder(categories=[['18-22',\n",
       "                                                                                                     '23-27',\n",
       "                                                                                                     '28-32',\n",
       "                                                                                                     '33-37',\n",
       "                                                                                                     '38-42',\n",
       "                                                                                                     '43-47',\n",
       "                                                                                                     '48 '\n",
       "                                                                                                     'or '\n",
       "                                                                                                     'older'],\n",
       "                                                                                                    ['Less '\n",
       "                                                                                                     'than '\n",
       "                                                                                                     'HS '\n",
       "                                                                                                     'diploma',\n",
       "                                                                                                     'High '\n",
       "                                                                                                     'School '\n",
       "                                                                                                     'Diploma',\n",
       "                                                                                                     'At '\n",
       "                                                                                                     'least '\n",
       "                                                                                                     '...\n",
       "                                                                         StandardScaler(),\n",
       "                                                                         ['Supervision_Risk_Score_First'])])),\n",
       "                                       ('lr', LogisticRegression())]),\n",
       "             n_jobs=-1,\n",
       "             param_grid={'lr__C': [0.01, 0.1, 1.0, 10, 100],\n",
       "                         'lr__l1_ratio': array([0.        , 0.11111111, 0.22222222, 0.33333333, 0.44444444,\n",
       "       0.55555556, 0.66666667, 0.77777778, 0.88888889, 1.        ]),\n",
       "                         'lr__max_iter': [5000], 'lr__penalty': ['elasticnet'],\n",
       "                         'lr__solver': ['saga']},\n",
       "             scoring='neg_brier_score')"
      ]
     },
     "execution_count": 22,
     "metadata": {},
     "output_type": "execute_result"
    }
   ],
   "source": [
    "lr_pca_cv = GridSearchCV(lr_pipeline_pca, lr_params_pca, scoring='neg_brier_score', n_jobs=-1,cv=cv)\n",
    "lr_pca_cv.fit(X_train, y_train)"
   ]
  },
  {
   "cell_type": "code",
   "execution_count": null,
   "id": "fe258218-7fee-455e-9e06-1e178d0d6528",
   "metadata": {},
   "outputs": [],
   "source": [
    "joblib.dump(lr_cv.best_estimator_, os.path.join(modelsdir,'model_lr.pkl'))\n",
    "joblib.dump(lr_pca_cv.best_estimator_, os.path.join(modelsdir,'model_lr_pca.pkl'))"
   ]
  },
  {
   "cell_type": "code",
   "execution_count": 23,
   "id": "f42c9e73-1a6b-4e1c-b2ab-83a3dcdb3b09",
   "metadata": {},
   "outputs": [
    {
     "data": {
      "image/png": "[encoded data removed]",
      "text/plain": [
       "<Figure size 432x288 with 1 Axes>"
      ]
     },
     "metadata": {
      "needs_background": "light"
     },
     "output_type": "display_data"
    }
   ],
   "source": [
    "lr_scores, lr_display = calc_scores(lr_cv, X_test, y_test, 'LR')"
   ]
  },
  {
   "cell_type": "code",
   "execution_count": 24,
   "id": "bb891240-df6f-45a1-8978-37579ff61c4e",
   "metadata": {},
   "outputs": [
    {
     "data": {
      "text/html": [
       "<div>\n",
       "<style scoped>\n",
       "    .dataframe tbody tr th:only-of-type {\n",
       "        vertical-align: middle;\n",
       "    }\n",
       "\n",
       "    .dataframe tbody tr th {\n",
       "        vertical-align: top;\n",
       "    }\n",
       "\n",
       "    .dataframe thead th {\n",
       "        text-align: right;\n",
       "    }\n",
       "</style>\n",
       "<table border=\"1\" class=\"dataframe\">\n",
       "  <thead>\n",
       "    <tr style=\"text-align: right;\">\n",
       "      <th></th>\n",
       "      <th>Logistic Regression</th>\n",
       "    </tr>\n",
       "  </thead>\n",
       "  <tbody>\n",
       "    <tr>\n",
       "      <th>Brier Score</th>\n",
       "      <td>0.198274</td>\n",
       "    </tr>\n",
       "    <tr>\n",
       "      <th>F1 Score</th>\n",
       "      <td>0.753464</td>\n",
       "    </tr>\n",
       "    <tr>\n",
       "      <th>Recall</th>\n",
       "      <td>0.800685</td>\n",
       "    </tr>\n",
       "    <tr>\n",
       "      <th>Precision</th>\n",
       "      <td>0.711503</td>\n",
       "    </tr>\n",
       "    <tr>\n",
       "      <th>ROC_AUC</th>\n",
       "      <td>0.670245</td>\n",
       "    </tr>\n",
       "  </tbody>\n",
       "</table>\n",
       "</div>"
      ],
      "text/plain": [
       "             Logistic Regression\n",
       "Brier Score             0.198274\n",
       "F1 Score                0.753464\n",
       "Recall                  0.800685\n",
       "Precision               0.711503\n",
       "ROC_AUC                 0.670245"
      ]
     },
     "execution_count": 24,
     "metadata": {},
     "output_type": "execute_result"
    }
   ],
   "source": [
    "pd.DataFrame(lr_scores, index=tests, columns=['Logistic Regression'])"
   ]
  },
  {
   "cell_type": "code",
   "execution_count": 25,
   "id": "78d1bc3c-3e30-4a29-8340-ba2cd84ac1b9",
   "metadata": {},
   "outputs": [
    {
     "data": {
      "image/png": "[encoded data removed]",
      "text/plain": [
       "<Figure size 432x288 with 1 Axes>"
      ]
     },
     "metadata": {
      "needs_background": "light"
     },
     "output_type": "display_data"
    }
   ],
   "source": [
    "fig, ax = plt.subplots()\n",
    "lr_display.plot(ax=ax)\n",
    "ax.set_title(\"ROC-AUC Curve\")\n",
    "plt.show()"
   ]
  },
  {
   "cell_type": "code",
   "execution_count": 26,
   "id": "a5950f63-6c0e-4de3-8d38-dffe66d27269",
   "metadata": {},
   "outputs": [
    {
     "data": {
      "text/plain": [
       "{'lr__C': 0.1,\n",
       " 'lr__l1_ratio': 0.6666666666666666,\n",
       " 'lr__max_iter': 5000,\n",
       " 'lr__penalty': 'elasticnet',\n",
       " 'lr__solver': 'saga'}"
      ]
     },
     "execution_count": 26,
     "metadata": {},
     "output_type": "execute_result"
    }
   ],
   "source": [
    "lr_cv.best_params_"
   ]
  },
  {
   "cell_type": "code",
   "execution_count": 27,
   "id": "44cb2fef-c877-4755-8e08-d10a3c62dab2",
   "metadata": {},
   "outputs": [
    {
     "data": {
      "text/plain": [
       "array([[-0.25213397,  0.03700526,  0.        , -0.11750523,  0.06033696,\n",
       "         0.04257103,  0.0492406 ,  0.06271323,  0.00648861,  0.09751383,\n",
       "         0.05788147,  0.07213478,  0.00893146, -0.03725734, -0.13805301,\n",
       "        -0.04016535,  0.08360335,  0.13913613, -0.35957645,  0.24367856,\n",
       "         0.10151073,  0.        , -0.17120377, -0.02154156, -0.04544358,\n",
       "        -0.11211495, -0.19724565,  0.        , -0.19461572,  0.        ,\n",
       "         0.18410531,  0.        ,  0.        ,  0.        ,  0.02998279,\n",
       "         0.10190726,  0.        ,  0.15859436,  0.        , -0.15663821,\n",
       "         0.11781286,  0.        ,  0.21911214,  0.        ,  0.        ,\n",
       "         0.04882539,  0.        ,  0.78813656, -0.22761916,  0.        ,\n",
       "         0.00496947, -0.22284267,  0.00203966, -0.08366593,  0.        ,\n",
       "         0.04688599,  0.00592684,  0.02090227, -0.15615793,  0.        ,\n",
       "        -0.02632495,  0.        , -0.12108043,  0.02758455,  0.02801786,\n",
       "         0.29999491, -0.09290919,  0.34984206, -0.03344583,  0.05148821,\n",
       "         0.24925419,  0.        , -0.05526149, -0.09120821, -0.22489872,\n",
       "         0.        ,  0.16364669,  0.06530485]])"
      ]
     },
     "execution_count": 27,
     "metadata": {},
     "output_type": "execute_result"
    }
   ],
   "source": [
    "lr_cv.best_estimator_['lr'].coef_"
   ]
  },
  {
   "cell_type": "markdown",
   "id": "e2e06898-6a0f-47ee-981b-0c09886396b3",
   "metadata": {},
   "source": [
    "## Decision Tree"
   ]
  },
  {
   "cell_type": "code",
   "execution_count": 26,
   "id": "59e51801-45b6-4983-8958-8af823aac6d8",
   "metadata": {},
   "outputs": [],
   "source": [
    "dt_model = DecisionTreeClassifier()\n",
    "dt_params = {'dt__criterion':['gini', 'entropy'], 'dt__splitter':['best', 'random']}\n",
    "dt_pipeline = Pipeline([('columnTransformer', ct),('dt', dt_model)])\n",
    "\n",
    "dt_model_pca = DecisionTreeClassifier()\n",
    "dt_params_pca = {**dt_params, **pca_params}\n",
    "dt_pipeline_pca = Pipeline([('columnTransformer', ct),('pca', pca),('dt', dt_model_pcal)])"
   ]
  },
  {
   "cell_type": "code",
   "execution_count": 27,
   "id": "d630e8c6-750c-4f2f-8d4d-3e056b5d2ff3",
   "metadata": {},
   "outputs": [],
   "source": [
    "dt_cv = GridSearchCV(dt_pipeline, dt_params, scoring='neg_brier_score', n_jobs=-1, cv=cv)\n",
    "dt_cv.fit(X_train, y_train)"
   ]
  },
  {
   "cell_type": "code",
   "execution_count": 28,
   "id": "eb1248b0-c879-4f92-94da-b61da485c1ac",
   "metadata": {},
   "outputs": [
    {
     "data": {
      "text/plain": [
       "GridSearchCV(cv=RepeatedStratifiedKFold(n_repeats=3, n_splits=10, random_state=3),\n",
       "             estimator=Pipeline(steps=[('columnTransformer',\n",
       "                                        ColumnTransformer(remainder='passthrough',\n",
       "                                                          transformers=[('ordinal',\n",
       "                                                                         OrdinalEncoder(categories=[['18-22',\n",
       "                                                                                                     '23-27',\n",
       "                                                                                                     '28-32',\n",
       "                                                                                                     '33-37',\n",
       "                                                                                                     '38-42',\n",
       "                                                                                                     '43-47',\n",
       "                                                                                                     '48 '\n",
       "                                                                                                     'or '\n",
       "                                                                                                     'older'],\n",
       "                                                                                                    ['Less '\n",
       "                                                                                                     'than '\n",
       "                                                                                                     'HS '\n",
       "                                                                                                     'diploma',\n",
       "                                                                                                     'High '\n",
       "                                                                                                     'School '\n",
       "                                                                                                     'Diploma',\n",
       "                                                                                                     'At '\n",
       "                                                                                                     'least '\n",
       "                                                                                                     '...\n",
       "                                                                          'Condition_Other',\n",
       "                                                                          'Violations_Instruction',\n",
       "                                                                          'Violations_FailToReport',\n",
       "                                                                          'Violations_MoveWithoutPermission',\n",
       "                                                                          'Employment_Exempt',\n",
       "                                                                          'Drug_Test_Results']),\n",
       "                                                                        ('scaler',\n",
       "                                                                         StandardScaler(),\n",
       "                                                                         ['Supervision_Risk_Score_First'])])),\n",
       "                                       ('dt', DecisionTreeClassifier())]),\n",
       "             n_jobs=-1,\n",
       "             param_grid={'dt__criterion': ['gini', 'entropy'],\n",
       "                         'dt__splitter': ['best', 'random']},\n",
       "             scoring='neg_brier_score')"
      ]
     },
     "execution_count": 28,
     "metadata": {},
     "output_type": "execute_result"
    }
   ],
   "source": [
    "dt_pca_cv = GridSearchCV(dt_pipeline_pca, dt_params_pca, scoring='neg_brier_score', n_jobs=-1, cv=cv)\n",
    "dt_pca_cv.fit(X_train, y_train)"
   ]
  },
  {
   "cell_type": "code",
   "execution_count": null,
   "id": "a2b1ca5b-6ad7-49b7-bf44-3be12d326430",
   "metadata": {},
   "outputs": [],
   "source": [
    "joblib.dump(dt_cv.best_estimator_, os.path.join(modelsdir,'model_dt.pkl'))\n",
    "joblib.dump(dt_pca_cv.best_estimator_, os.path.join(modelsdir,\"model_dt_pca.pkl\"))"
   ]
  },
  {
   "cell_type": "code",
   "execution_count": 16,
   "id": "99f6a3f7-5b9b-4ef7-86f5-2ce08bfcfb27",
   "metadata": {},
   "outputs": [],
   "source": [
    "dt_scores, dt_display = calc_scores(dt_cv, X_test, y_test, 'Decision Tree')"
   ]
  },
  {
   "cell_type": "code",
   "execution_count": 17,
   "id": "7f9db7f1-eb78-4e33-8222-92e13c3cbfe5",
   "metadata": {},
   "outputs": [
    {
     "data": {
      "text/html": [
       "<div>\n",
       "<style scoped>\n",
       "    .dataframe tbody tr th:only-of-type {\n",
       "        vertical-align: middle;\n",
       "    }\n",
       "\n",
       "    .dataframe tbody tr th {\n",
       "        vertical-align: top;\n",
       "    }\n",
       "\n",
       "    .dataframe thead th {\n",
       "        text-align: right;\n",
       "    }\n",
       "</style>\n",
       "<table border=\"1\" class=\"dataframe\">\n",
       "  <thead>\n",
       "    <tr style=\"text-align: right;\">\n",
       "      <th></th>\n",
       "      <th>Decision Tree</th>\n",
       "    </tr>\n",
       "  </thead>\n",
       "  <tbody>\n",
       "    <tr>\n",
       "      <th>Brier Score</th>\n",
       "      <td>0.392570</td>\n",
       "    </tr>\n",
       "    <tr>\n",
       "      <th>F1 Score</th>\n",
       "      <td>0.663221</td>\n",
       "    </tr>\n",
       "    <tr>\n",
       "      <th>Recall</th>\n",
       "      <td>0.659247</td>\n",
       "    </tr>\n",
       "    <tr>\n",
       "      <th>Precision</th>\n",
       "      <td>0.667244</td>\n",
       "    </tr>\n",
       "    <tr>\n",
       "      <th>ROC_AUC</th>\n",
       "      <td>0.596614</td>\n",
       "    </tr>\n",
       "  </tbody>\n",
       "</table>\n",
       "</div>"
      ],
      "text/plain": [
       "             Decision Tree\n",
       "Brier Score       0.392570\n",
       "F1 Score          0.663221\n",
       "Recall            0.659247\n",
       "Precision         0.667244\n",
       "ROC_AUC           0.596614"
      ]
     },
     "execution_count": 17,
     "metadata": {},
     "output_type": "execute_result"
    }
   ],
   "source": [
    "pd.DataFrame(dt_scores, index=tests, columns=['Decision Tree'])"
   ]
  },
  {
   "cell_type": "code",
   "execution_count": 18,
   "id": "6ddd987a-25df-4118-b590-fb06631c3101",
   "metadata": {},
   "outputs": [
    {
     "data": {
      "image/png": "[encoded data removed]",
      "text/plain": [
       "<Figure size 432x288 with 1 Axes>"
      ]
     },
     "metadata": {
      "needs_background": "light"
     },
     "output_type": "display_data"
    }
   ],
   "source": [
    "fig, ax = plt.subplots()\n",
    "dt_display.plot(ax=ax)\n",
    "ax.set_title(\"ROC-AUC Curve\")\n",
    "plt.show()"
   ]
  },
  {
   "cell_type": "markdown",
   "id": "68256e15-9185-4304-803a-57d80370e8c1",
   "metadata": {},
   "source": [
    "## Random Forest"
   ]
  },
  {
   "cell_type": "code",
   "execution_count": 47,
   "id": "44801a64-87b3-45f2-be67-a95712a5a6e6",
   "metadata": {},
   "outputs": [],
   "source": [
    "rf_model = RandomForestClassifier(random_state=42, n_jobs=-1)\n",
    "rf_params = {'rf__criterion':['gini', 'entropy'], 'rf__max_depth':[5,10,15,25,50]}\n",
    "rf_pipeline = Pipeline([('columnTransformer', ct),('rf', rf_model)])\n",
    "\n",
    "rf_model_pca = RandomForestClassifier(random_state=42, n_jobs=-1)\n",
    "rf_params_pca = {**rf_params, **pca_params}\n",
    "rf_pipeline_pca = Pipeline([('columnTransformer', ct),('pca', pca),('rf', rf_model_pca)])"
   ]
  },
  {
   "cell_type": "code",
   "execution_count": 48,
   "id": "13ef5257-cf33-4df5-b4cd-68bdc13b81dc",
   "metadata": {},
   "outputs": [
    {
     "data": {
      "text/plain": [
       "GridSearchCV(cv=RepeatedStratifiedKFold(n_repeats=3, n_splits=10, random_state=3),\n",
       "             estimator=Pipeline(steps=[('columnTransformer',\n",
       "                                        ColumnTransformer(remainder='passthrough',\n",
       "                                                          transformers=[('ordinal',\n",
       "                                                                         OrdinalEncoder(categories=[['18-22',\n",
       "                                                                                                     '23-27',\n",
       "                                                                                                     '28-32',\n",
       "                                                                                                     '33-37',\n",
       "                                                                                                     '38-42',\n",
       "                                                                                                     '43-47',\n",
       "                                                                                                     '48 '\n",
       "                                                                                                     'or '\n",
       "                                                                                                     'older'],\n",
       "                                                                                                    ['Less '\n",
       "                                                                                                     'than '\n",
       "                                                                                                     'HS '\n",
       "                                                                                                     'diploma',\n",
       "                                                                                                     'High '\n",
       "                                                                                                     'School '\n",
       "                                                                                                     'Diploma',\n",
       "                                                                                                     'At '\n",
       "                                                                                                     'least '\n",
       "                                                                                                     '...\n",
       "                                                                          'Violations_Instruction',\n",
       "                                                                          'Violations_FailToReport',\n",
       "                                                                          'Violations_MoveWithoutPermission',\n",
       "                                                                          'Employment_Exempt',\n",
       "                                                                          'Drug_Test_Results']),\n",
       "                                                                        ('scaler',\n",
       "                                                                         StandardScaler(),\n",
       "                                                                         ['Supervision_Risk_Score_First'])])),\n",
       "                                       ('rf',\n",
       "                                        RandomForestClassifier(n_jobs=-1,\n",
       "                                                               random_state=42))]),\n",
       "             param_grid={'rf__criterion': ['gini', 'entropy'],\n",
       "                         'rf__max_depth': [5, 10, 15, 25, 50]},\n",
       "             scoring='neg_brier_score')"
      ]
     },
     "execution_count": 48,
     "metadata": {},
     "output_type": "execute_result"
    }
   ],
   "source": [
    "rf_cv = GridSearchCV(rf_pipeline, rf_params, scoring='neg_brier_score', cv=cv)\n",
    "rf_cv.fit(X_train,y_train)"
   ]
  },
  {
   "cell_type": "code",
   "execution_count": null,
   "id": "5dcb22f5-762c-4503-bf3e-122e35d6c74b",
   "metadata": {},
   "outputs": [],
   "source": [
    "rf_pca_cv = GridSearchCV(rf_pipeline_pca, rf_params_pca, scoring='neg_brier_score', cv=cv)\n",
    "rf_pca_cv.fit(X_train,y_train)"
   ]
  },
  {
   "cell_type": "code",
   "execution_count": null,
   "id": "9d968fcd-fd9b-4125-8c10-0a21aadd09c7",
   "metadata": {},
   "outputs": [],
   "source": [
    "joblib.dump(rf_cv.best_estimator_, os.path.join(modelsdir,\"model_rf.pkl\"))\n",
    "joblib.dump(rf_pca_cv.best_estimator_, os.path.join(modelsdir,\"model_rf_pca.pkl\"))"
   ]
  },
  {
   "cell_type": "code",
   "execution_count": 49,
   "id": "76ecfdf3-2616-4907-9588-4e015612dbaa",
   "metadata": {},
   "outputs": [
    {
     "data": {
      "text/html": [
       "<div>\n",
       "<style scoped>\n",
       "    .dataframe tbody tr th:only-of-type {\n",
       "        vertical-align: middle;\n",
       "    }\n",
       "\n",
       "    .dataframe tbody tr th {\n",
       "        vertical-align: top;\n",
       "    }\n",
       "\n",
       "    .dataframe thead th {\n",
       "        text-align: right;\n",
       "    }\n",
       "</style>\n",
       "<table border=\"1\" class=\"dataframe\">\n",
       "  <thead>\n",
       "    <tr style=\"text-align: right;\">\n",
       "      <th></th>\n",
       "      <th>Random Forest</th>\n",
       "    </tr>\n",
       "  </thead>\n",
       "  <tbody>\n",
       "    <tr>\n",
       "      <th>Brier Score</th>\n",
       "      <td>0.195874</td>\n",
       "    </tr>\n",
       "    <tr>\n",
       "      <th>F1 Score</th>\n",
       "      <td>0.765405</td>\n",
       "    </tr>\n",
       "    <tr>\n",
       "      <th>Recall</th>\n",
       "      <td>0.838014</td>\n",
       "    </tr>\n",
       "    <tr>\n",
       "      <th>Precision</th>\n",
       "      <td>0.704375</td>\n",
       "    </tr>\n",
       "    <tr>\n",
       "      <th>ROC_AUC</th>\n",
       "      <td>0.669735</td>\n",
       "    </tr>\n",
       "  </tbody>\n",
       "</table>\n",
       "</div>"
      ],
      "text/plain": [
       "             Random Forest\n",
       "Brier Score       0.195874\n",
       "F1 Score          0.765405\n",
       "Recall            0.838014\n",
       "Precision         0.704375\n",
       "ROC_AUC           0.669735"
      ]
     },
     "execution_count": 49,
     "metadata": {},
     "output_type": "execute_result"
    }
   ],
   "source": [
    "rf_scores, rf_display = calc_scores(rf_cv, X_test, y_test, 'Random Forest')\n",
    "pd.DataFrame(rf_scores, index=tests, columns=['Random Forest'])"
   ]
  },
  {
   "cell_type": "code",
   "execution_count": 50,
   "id": "797939c6-ed8e-4a5b-86cc-06e648b0a046",
   "metadata": {},
   "outputs": [
    {
     "data": {
      "image/png": "[encoded data removed]",
      "text/plain": [
       "<Figure size 432x288 with 1 Axes>"
      ]
     },
     "metadata": {
      "needs_background": "light"
     },
     "output_type": "display_data"
    }
   ],
   "source": [
    "fig, ax = plt.subplots()\n",
    "rf_display.plot(ax=ax)\n",
    "ax.set_title(\"ROC-AUC Curve\")\n",
    "plt.show()"
   ]
  },
  {
   "cell_type": "code",
   "execution_count": 51,
   "id": "f08cb9ec-6107-4283-9423-85bd6887b0a9",
   "metadata": {},
   "outputs": [
    {
     "data": {
      "text/plain": [
       "Pipeline(steps=[('columnTransformer',\n",
       "                 ColumnTransformer(remainder='passthrough',\n",
       "                                   transformers=[('ordinal',\n",
       "                                                  OrdinalEncoder(categories=[['18-22',\n",
       "                                                                              '23-27',\n",
       "                                                                              '28-32',\n",
       "                                                                              '33-37',\n",
       "                                                                              '38-42',\n",
       "                                                                              '43-47',\n",
       "                                                                              '48 '\n",
       "                                                                              'or '\n",
       "                                                                              'older'],\n",
       "                                                                             ['Less '\n",
       "                                                                              'than '\n",
       "                                                                              'HS '\n",
       "                                                                              'diploma',\n",
       "                                                                              'High '\n",
       "                                                                              'School '\n",
       "                                                                              'Diploma',\n",
       "                                                                              'At '\n",
       "                                                                              'least '\n",
       "                                                                              'some '\n",
       "                                                                              'college'],\n",
       "                                                                             ['0',\n",
       "                                                                              '1',\n",
       "                                                                              '2',\n",
       "                                                                              '3 '\n",
       "                                                                              'or '\n",
       "                                                                              'more'],\n",
       "                                                                             ['Less '\n",
       "                                                                              'than '\n",
       "                                                                              '1 '\n",
       "                                                                              'year',\n",
       "                                                                              '1-2 '\n",
       "                                                                              'years',\n",
       "                                                                              'Greater '\n",
       "                                                                              '...\n",
       "                                                   'Prior_Revocations_Probation',\n",
       "                                                   'Condition_MH_SA',\n",
       "                                                   'Condition_Cog_Ed',\n",
       "                                                   'Condition_Other',\n",
       "                                                   'Violations_Instruction',\n",
       "                                                   'Violations_FailToReport',\n",
       "                                                   'Violations_MoveWithoutPermission',\n",
       "                                                   'Employment_Exempt',\n",
       "                                                   'Drug_Test_Results']),\n",
       "                                                 ('scaler', StandardScaler(),\n",
       "                                                  ['Supervision_Risk_Score_First'])])),\n",
       "                ('rf',\n",
       "                 RandomForestClassifier(criterion='entropy', max_depth=15,\n",
       "                                        n_jobs=-1, random_state=42))])"
      ]
     },
     "execution_count": 51,
     "metadata": {},
     "output_type": "execute_result"
    }
   ],
   "source": [
    "rf_cv.best_estimator_"
   ]
  },
  {
   "cell_type": "markdown",
   "id": "49f982ee-fa54-40b7-a603-3847fa707e7b",
   "metadata": {},
   "source": [
    "## SGD Classifier"
   ]
  },
  {
   "cell_type": "code",
   "execution_count": 23,
   "id": "b1bc9320-50d8-41b7-928c-1a41db0aa052",
   "metadata": {},
   "outputs": [],
   "source": [
    "sgd_model = SGDClassifier(random_state=42)\n",
    "sgd_params = {'sgd__loss':['modified_huber','log'], 'sgd__penalty':['elasticnet'], \n",
    "              'sgd__alpha':[0.0001,0.001, 0.01, 0.1, 1,10,100], 'sgd__l1_ratio':np.linspace(0,1,10,True)}\n",
    "sgd_pipeline = Pipeline([('columnTransformer', ct),('sgd', sgd_model)])\n",
    "\n",
    "sgd_model_pca = SGDClassifier(random_state=42)\n",
    "sgd_params_pca = {**sgd_params,**pca_params}\n",
    "sgd_pipeline_pca = Pipeline([('columnTransformer', ct),('pca',pca),('sgd', sgd_model_pca)])"
   ]
  },
  {
   "cell_type": "code",
   "execution_count": 24,
   "id": "fac39e70-6312-4178-8080-6b0c30de82ce",
   "metadata": {
    "tags": []
   },
   "outputs": [
    {
     "data": {
      "text/plain": [
       "GridSearchCV(cv=RepeatedStratifiedKFold(n_repeats=3, n_splits=10, random_state=3),\n",
       "             estimator=Pipeline(steps=[('columnTransformer',\n",
       "                                        ColumnTransformer(remainder='passthrough',\n",
       "                                                          transformers=[('ordinal',\n",
       "                                                                         OrdinalEncoder(categories=[['18-22',\n",
       "                                                                                                     '23-27',\n",
       "                                                                                                     '28-32',\n",
       "                                                                                                     '33-37',\n",
       "                                                                                                     '38-42',\n",
       "                                                                                                     '43-47',\n",
       "                                                                                                     '48 '\n",
       "                                                                                                     'or '\n",
       "                                                                                                     'older'],\n",
       "                                                                                                    ['Less '\n",
       "                                                                                                     'than '\n",
       "                                                                                                     'HS '\n",
       "                                                                                                     'diploma',\n",
       "                                                                                                     'High '\n",
       "                                                                                                     'School '\n",
       "                                                                                                     'Diploma',\n",
       "                                                                                                     'At '\n",
       "                                                                                                     'least '\n",
       "                                                                                                     '...\n",
       "                                                                         StandardScaler(),\n",
       "                                                                         ['Supervision_Risk_Score_First'])])),\n",
       "                                       ('sgd',\n",
       "                                        SGDClassifier(random_state=42))]),\n",
       "             param_grid={'sgd__alpha': [0.0001, 0.001, 0.01, 0.1, 1, 10, 100],\n",
       "                         'sgd__l1_ratio': array([0.        , 0.11111111, 0.22222222, 0.33333333, 0.44444444,\n",
       "       0.55555556, 0.66666667, 0.77777778, 0.88888889, 1.        ]),\n",
       "                         'sgd__loss': ['modified_huber', 'log'],\n",
       "                         'sgd__penalty': ['elasticnet']},\n",
       "             scoring='neg_brier_score')"
      ]
     },
     "execution_count": 24,
     "metadata": {},
     "output_type": "execute_result"
    }
   ],
   "source": [
    "sgd_cv = GridSearchCV(sgd_pipeline, sgd_params, scoring='neg_brier_score', cv=cv)\n",
    "sgd_cv.fit(X_train,y_train)"
   ]
  },
  {
   "cell_type": "code",
   "execution_count": null,
   "id": "1d972580-22f4-42a6-a4ba-d258cfa801bd",
   "metadata": {},
   "outputs": [],
   "source": [
    "sgd_pca_cv = GridSearchCV(sgd_pipeline_pca, sgd_params_pca, scoring='neg_brier_score', cv=cv)\n",
    "sgd_pca_cv.fit(X_train,y_train)"
   ]
  },
  {
   "cell_type": "code",
   "execution_count": null,
   "id": "71ddcc47-423e-4c77-a375-dda67c46247e",
   "metadata": {},
   "outputs": [],
   "source": [
    "joblib.dump(sgd_pca_cv.best_estimator_, os.path.join(modelsdir,'model_sgd_pca'))\n",
    "joblib.dump(sgd_cv.best_estimator_, os.path.join(modelsdir,'model_sgd'))"
   ]
  },
  {
   "cell_type": "code",
   "execution_count": 73,
   "id": "8fd6b4ce-aa2b-4530-9bcf-56b9b23f3002",
   "metadata": {},
   "outputs": [
    {
     "data": {
      "text/html": [
       "<div>\n",
       "<style scoped>\n",
       "    .dataframe tbody tr th:only-of-type {\n",
       "        vertical-align: middle;\n",
       "    }\n",
       "\n",
       "    .dataframe tbody tr th {\n",
       "        vertical-align: top;\n",
       "    }\n",
       "\n",
       "    .dataframe thead th {\n",
       "        text-align: right;\n",
       "    }\n",
       "</style>\n",
       "<table border=\"1\" class=\"dataframe\">\n",
       "  <thead>\n",
       "    <tr style=\"text-align: right;\">\n",
       "      <th></th>\n",
       "      <th>SGD</th>\n",
       "    </tr>\n",
       "  </thead>\n",
       "  <tbody>\n",
       "    <tr>\n",
       "      <th>Brier Score</th>\n",
       "      <td>0.198282</td>\n",
       "    </tr>\n",
       "    <tr>\n",
       "      <th>F1 Score</th>\n",
       "      <td>0.752395</td>\n",
       "    </tr>\n",
       "    <tr>\n",
       "      <th>Recall</th>\n",
       "      <td>0.793493</td>\n",
       "    </tr>\n",
       "    <tr>\n",
       "      <th>Precision</th>\n",
       "      <td>0.715344</td>\n",
       "    </tr>\n",
       "    <tr>\n",
       "      <th>ROC_AUC</th>\n",
       "      <td>0.672960</td>\n",
       "    </tr>\n",
       "  </tbody>\n",
       "</table>\n",
       "</div>"
      ],
      "text/plain": [
       "                  SGD\n",
       "Brier Score  0.198282\n",
       "F1 Score     0.752395\n",
       "Recall       0.793493\n",
       "Precision    0.715344\n",
       "ROC_AUC      0.672960"
      ]
     },
     "execution_count": 73,
     "metadata": {},
     "output_type": "execute_result"
    },
    {
     "data": {
      "image/png": "[encoded data removed]",
      "text/plain": [
       "<Figure size 432x288 with 1 Axes>"
      ]
     },
     "metadata": {
      "needs_background": "light"
     },
     "output_type": "display_data"
    }
   ],
   "source": [
    "sgd_scores, sgd_display = calc_scores(sgd_cv, X_test, y_test, 'SGD')\n",
    "pd.DataFrame(sgd_scores, index=tests, columns=['SGD'])"
   ]
  },
  {
   "cell_type": "code",
   "execution_count": 71,
   "id": "6f050b5f-b494-4438-9715-836714e25378",
   "metadata": {},
   "outputs": [
    {
     "data": {
      "image/png": "[encoded data removed]",
      "text/plain": [
       "<Figure size 432x288 with 1 Axes>"
      ]
     },
     "metadata": {
      "needs_background": "light"
     },
     "output_type": "display_data"
    }
   ],
   "source": [
    "fig, ax = plt.subplots()\n",
    "sgd_display.plot(ax=ax)\n",
    "ax.set_title(\"ROC-AUC Curve\")\n",
    "plt.show()"
   ]
  },
  {
   "cell_type": "code",
   "execution_count": 26,
   "id": "5b254821-dbe4-402b-b9b5-0db71c1f799d",
   "metadata": {},
   "outputs": [
    {
     "data": {
      "text/plain": [
       "{'sgd__alpha': 0.01,\n",
       " 'sgd__l1_ratio': 0.0,\n",
       " 'sgd__loss': 'log',\n",
       " 'sgd__penalty': 'elasticnet'}"
      ]
     },
     "execution_count": 26,
     "metadata": {},
     "output_type": "execute_result"
    }
   ],
   "source": [
    "sgd_cv.best_params_"
   ]
  },
  {
   "cell_type": "markdown",
   "id": "b4308b8f-5c55-4e33-bf7d-28aba6706fe6",
   "metadata": {},
   "source": [
    "## XGBoost Model\n"
   ]
  },
  {
   "cell_type": "code",
   "execution_count": 26,
   "id": "0ee9bb92-48a2-43c2-b267-042e97aaf1d4",
   "metadata": {},
   "outputs": [],
   "source": [
    "xgb_params_old = {\n",
    "    'xgb__eta': [0.3], \n",
    "    'xgb__max_depth': [5],  \n",
    "    'xgb__objective': ['multi:softprob'],  \n",
    "    'xgb__num_class': [2],\n",
    "    'xgb__min_child_weight': [1, 3, 5, 7],\n",
    "    'xgb__gamma': [0.0, 0.1, 0.2, 0.3, 0.4],\n",
    "    'xgb__colsample_bytree': [0.3, 0.4, 0.5, 0.7],\n",
    "    'xgb__eval_metric':['merror']} \n",
    "\n",
    "xgb_params = {\n",
    "    'xgb__booster': ['gbtree'],\n",
    "    'xgb__eta': np.linspace(0,1,20,True), \n",
    "    'xgb__max_depth': [3, 5, 8, 10, 12, 15, 20,50],  \n",
    "    'xgb__objective': ['multi:softprob', 'binary:logistic'],  \n",
    "    'xgb__num_class': [2],\n",
    "    'xgb__subsample': [0.5,1],\n",
    "    'xgb__tree_method': ['auto', 'hist']} \n",
    "\n",
    "xgb_params_pca = {**xgb_params,**pca_params}\n",
    "\n",
    "xgb_model = xgb.XGBClassifier(use_label_encoder=False)\n",
    "xgb_pipeline = Pipeline([('columnTransformer', ct),('xgb', xgb_model)])\n",
    "xgb_cv = RandomizedSearchCV(xgb_pipeline, xgb_params, scoring='neg_brier_score', cv=cv)\n",
    "\n",
    "xgb_model_pca = xgb.XGBClassifier(use_label_encoder=False)\n",
    "xgb_pipeline_pca = Pipeline([('columnTransformer', ct),('pca', pca),('xgb', xgb_model)])\n",
    "xgb_cv_pca = RandomizedSearchCV(xgb_pipeline, xgb_params_pca, scoring='neg_brier_score', cv=cv)"
   ]
  },
  {
   "cell_type": "code",
   "execution_count": 27,
   "id": "c7ac97b0-b41f-403c-8c75-aa0a59175772",
   "metadata": {},
   "outputs": [
    {
     "data": {
      "text/plain": [
       "GridSearchCV(cv=RepeatedStratifiedKFold(n_repeats=3, n_splits=10, random_state=3),\n",
       "             estimator=Pipeline(steps=[('columnTransformer',\n",
       "                                        ColumnTransformer(remainder='passthrough',\n",
       "                                                          transformers=[('ordinal',\n",
       "                                                                         OrdinalEncoder(categories=[['18-22',\n",
       "                                                                                                     '23-27',\n",
       "                                                                                                     '28-32',\n",
       "                                                                                                     '33-37',\n",
       "                                                                                                     '38-42',\n",
       "                                                                                                     '43-47',\n",
       "                                                                                                     '48 '\n",
       "                                                                                                     'or '\n",
       "                                                                                                     'older'],\n",
       "                                                                                                    ['Less '\n",
       "                                                                                                     'than '\n",
       "                                                                                                     'HS '\n",
       "                                                                                                     'diploma',\n",
       "                                                                                                     'High '\n",
       "                                                                                                     'School '\n",
       "                                                                                                     'Diploma',\n",
       "                                                                                                     'At '\n",
       "                                                                                                     'least '\n",
       "                                                                                                     '...\n",
       "                                                      predictor=None,\n",
       "                                                      random_state=None,\n",
       "                                                      reg_alpha=None,\n",
       "                                                      reg_lambda=None,\n",
       "                                                      scale_pos_weight=None,\n",
       "                                                      subsample=None,\n",
       "                                                      tree_method=None,\n",
       "                                                      use_label_encoder=False,\n",
       "                                                      validate_parameters=None,\n",
       "                                                      verbosity=None))]),\n",
       "             param_grid={'xgb__eta': [0.3], 'xgb__eval_metric': ['merror'],\n",
       "                         'xgb__max_depth': [5], 'xgb__num_class': [2],\n",
       "                         'xgb__objective': ['multi:softprob']},\n",
       "             scoring='neg_brier_score')"
      ]
     },
     "execution_count": 27,
     "metadata": {},
     "output_type": "execute_result"
    }
   ],
   "source": [
    "xgb_cv.fit(X_train,y_train)"
   ]
  },
  {
   "cell_type": "code",
   "execution_count": null,
   "id": "23394997-eb88-4b73-acd9-c84c487289b6",
   "metadata": {},
   "outputs": [],
   "source": [
    "joblib.dump(xgb_cv.best_estimator_, os.path.join(modelsdir,'model_xgb.pkl'))\n",
    "xgb_cv.best_estimator_.save_model(os.path.join(modelsdir,'model_xgb2.pkl'))"
   ]
  },
  {
   "cell_type": "code",
   "execution_count": 28,
   "id": "1c73b058-58df-4818-9732-17ce37e7e35e",
   "metadata": {},
   "outputs": [
    {
     "data": {
      "text/plain": [
       "array([[0.39574397, 0.60425603],\n",
       "       [0.21412687, 0.7858732 ],\n",
       "       [0.391327  , 0.608673  ],\n",
       "       ...,\n",
       "       [0.5676473 , 0.43235272],\n",
       "       [0.5322501 , 0.46774986],\n",
       "       [0.40240988, 0.59759015]], dtype=float32)"
      ]
     },
     "execution_count": 28,
     "metadata": {},
     "output_type": "execute_result"
    }
   ],
   "source": [
    "xgb_cv.predict_proba(X_test)"
   ]
  },
  {
   "cell_type": "code",
   "execution_count": 29,
   "id": "2ce77080-20cd-49b3-a5aa-3183a5e03b51",
   "metadata": {},
   "outputs": [
    {
     "data": {
      "text/html": [
       "<div>\n",
       "<style scoped>\n",
       "    .dataframe tbody tr th:only-of-type {\n",
       "        vertical-align: middle;\n",
       "    }\n",
       "\n",
       "    .dataframe tbody tr th {\n",
       "        vertical-align: top;\n",
       "    }\n",
       "\n",
       "    .dataframe thead th {\n",
       "        text-align: right;\n",
       "    }\n",
       "</style>\n",
       "<table border=\"1\" class=\"dataframe\">\n",
       "  <thead>\n",
       "    <tr style=\"text-align: right;\">\n",
       "      <th></th>\n",
       "      <th>XGB</th>\n",
       "    </tr>\n",
       "  </thead>\n",
       "  <tbody>\n",
       "    <tr>\n",
       "      <th>Brier Score</th>\n",
       "      <td>0.199828</td>\n",
       "    </tr>\n",
       "    <tr>\n",
       "      <th>F1 Score</th>\n",
       "      <td>0.746900</td>\n",
       "    </tr>\n",
       "    <tr>\n",
       "      <th>Recall</th>\n",
       "      <td>0.773630</td>\n",
       "    </tr>\n",
       "    <tr>\n",
       "      <th>Precision</th>\n",
       "      <td>0.721956</td>\n",
       "    </tr>\n",
       "    <tr>\n",
       "      <th>ROC_AUC</th>\n",
       "      <td>0.675650</td>\n",
       "    </tr>\n",
       "  </tbody>\n",
       "</table>\n",
       "</div>"
      ],
      "text/plain": [
       "                  XGB\n",
       "Brier Score  0.199828\n",
       "F1 Score     0.746900\n",
       "Recall       0.773630\n",
       "Precision    0.721956\n",
       "ROC_AUC      0.675650"
      ]
     },
     "execution_count": 29,
     "metadata": {},
     "output_type": "execute_result"
    },
    {
     "data": {
      "image/png": "[encoded data removed]",
      "text/plain": [
       "<Figure size 432x288 with 1 Axes>"
      ]
     },
     "metadata": {
      "needs_background": "light"
     },
     "output_type": "display_data"
    }
   ],
   "source": [
    "xgb_scores, xgb_display = calc_scores(xgb_cv, X_test, y_test, 'XGB')\n",
    "pd.DataFrame(xgb_scores, index=tests, columns=['XGB'])"
   ]
  },
  {
   "cell_type": "code",
   "execution_count": null,
   "id": "ca1047fb-f292-4d00-9f65-6ba0b3c48621",
   "metadata": {},
   "outputs": [],
   "source": [
    "xgb_cv_pca.fit(X_train,y_train)"
   ]
  },
  {
   "cell_type": "code",
   "execution_count": 30,
   "id": "3a9f2bd4-f12a-4712-9c8e-fc85739c1ced",
   "metadata": {},
   "outputs": [
    {
     "data": {
      "text/plain": [
       "['../models/xgb/xgb_cv_best2.pkl']"
      ]
     },
     "execution_count": 30,
     "metadata": {},
     "output_type": "execute_result"
    }
   ],
   "source": [
    "\n",
    "\n",
    "joblib.dump(xgb_cv_pca.best_estimator_, os.path.join(modelsdir,'model_xgb_pca.pkl'))\n",
    "xgb_cv_pca.best_estimator_.save_model(os.path.join(modelsdir,'model_xgb2_pca.pkl'))"
   ]
  },
  {
   "cell_type": "markdown",
   "id": "fdc72f03-de83-47e2-8a71-50a51751fb42",
   "metadata": {},
   "source": [
    "Fit column transformer to data to obtain column names"
   ]
  },
  {
   "cell_type": "code",
   "execution_count": 24,
   "id": "20a16579-765b-4c17-99f9-3b301bbebddc",
   "metadata": {},
   "outputs": [],
   "source": [
    "import sklearn\n",
    "def get_feature_names(column_transformer):\n",
    "    \"\"\"Get feature names from all transformers.\n",
    "    Returns\n",
    "    -------\n",
    "    feature_names : list of strings\n",
    "        Names of the features produced by transform.\n",
    "    \"\"\"\n",
    "    # Remove the internal helper function\n",
    "    #check_is_fitted(column_transformer)\n",
    "    \n",
    "    # Turn loopkup into function for better handling with pipeline later\n",
    "    def get_names(trans):\n",
    "        # >> Original get_feature_names() method\n",
    "        if trans == 'drop' or (\n",
    "                hasattr(column, '__len__') and not len(column)):\n",
    "            return []\n",
    "        if trans == 'passthrough':\n",
    "            if hasattr(column_transformer, '_df_columns'):\n",
    "                if ((not isinstance(column, slice))\n",
    "                        and all(isinstance(col, str) for col in column)):\n",
    "                    return column\n",
    "                else:\n",
    "                    return column_transformer._df_columns[column]\n",
    "            else:\n",
    "                indices = np.arange(column_transformer._n_features)\n",
    "                return ['x%d' % i for i in indices[column]]\n",
    "        if not hasattr(trans, 'get_feature_names'):\n",
    "        # >>> Change: Return input column names if no method avaiable\n",
    "            # Turn error into a warning\n",
    "            warnings.warn(\"Transformer %s (type %s) does not \"\n",
    "                                 \"provide get_feature_names. \"\n",
    "                                 \"Will return input column names if available\"\n",
    "                                 % (str(name), type(trans).__name__))\n",
    "            # For transformers without a get_features_names method, use the input\n",
    "            # names to the column transformer\n",
    "            if column is None:\n",
    "                return []\n",
    "            else:\n",
    "                return [name + \"__\" + f for f in column]\n",
    "\n",
    "        return [name + \"__\" + f for f in trans.get_feature_names()]\n",
    "    \n",
    "    ### Start of processing\n",
    "    feature_names = []\n",
    "    \n",
    "    # Allow transformers to be pipelines. Pipeline steps are named differently, so preprocessing is needed\n",
    "    if type(column_transformer) == sklearn.pipeline.Pipeline:\n",
    "        l_transformers = [(name, trans, None, None) for step, name, trans in column_transformer._iter()]\n",
    "    else:\n",
    "        # For column transformers, follow the original method\n",
    "        l_transformers = list(column_transformer._iter(fitted=True))\n",
    "    \n",
    "    \n",
    "    for name, trans, column, _ in l_transformers: \n",
    "        if type(trans) == sklearn.pipeline.Pipeline:\n",
    "            # Recursive call on pipeline\n",
    "            _names = get_feature_names(trans)\n",
    "            # if pipeline has no transformer that returns names\n",
    "            if len(_names)==0:\n",
    "                _names = [name + \"__\" + f for f in column]\n",
    "            feature_names.extend(_names)\n",
    "        else:\n",
    "            feature_names.extend(get_names(trans))\n",
    "    \n",
    "    return feature_names"
   ]
  },
  {
   "cell_type": "code",
   "execution_count": 41,
   "id": "f155aa71-1dcc-4ebc-8034-d5dffc28737d",
   "metadata": {},
   "outputs": [
    {
     "name": "stderr",
     "output_type": "stream",
     "text": [
      "/var/folders/_5/sr8bhchn1_qg6q8wr7yfv96w0000gn/T/ipykernel_17446/938482201.py:31: UserWarning: Transformer ordinal (type OrdinalEncoder) does not provide get_feature_names. Will return input column names if available\n",
      "  warnings.warn(\"Transformer %s (type %s) does not \"\n",
      "/var/folders/_5/sr8bhchn1_qg6q8wr7yfv96w0000gn/T/ipykernel_17446/938482201.py:31: UserWarning: Transformer scaler (type StandardScaler) does not provide get_feature_names. Will return input column names if available\n",
      "  warnings.warn(\"Transformer %s (type %s) does not \"\n"
     ]
    }
   ],
   "source": [
    "feature_cols = get_feature_names(lr_pipeline['columnTransformer'])\n",
    "lr_coef = lr_cv.best_estimator_['lr'].coef_"
   ]
  },
  {
   "cell_type": "code",
   "execution_count": 42,
   "id": "ebb44334-605d-4f79-b4da-be40776843d6",
   "metadata": {},
   "outputs": [
    {
     "data": {
      "text/html": [
       "<div>\n",
       "<style scoped>\n",
       "    .dataframe tbody tr th:only-of-type {\n",
       "        vertical-align: middle;\n",
       "    }\n",
       "\n",
       "    .dataframe tbody tr th {\n",
       "        vertical-align: top;\n",
       "    }\n",
       "\n",
       "    .dataframe thead th {\n",
       "        text-align: right;\n",
       "    }\n",
       "</style>\n",
       "<table border=\"1\" class=\"dataframe\">\n",
       "  <thead>\n",
       "    <tr style=\"text-align: right;\">\n",
       "      <th></th>\n",
       "      <th>ordinal__Age_at_Release</th>\n",
       "      <th>ordinal__Education_Level</th>\n",
       "      <th>ordinal__Dependents</th>\n",
       "      <th>ordinal__Prison_Years</th>\n",
       "      <th>ordinal__Prior_Arrest_Episodes_Felony</th>\n",
       "      <th>ordinal__Prior_Arrest_Episodes_Misd</th>\n",
       "      <th>ordinal__Prior_Arrest_Episodes_Violent</th>\n",
       "      <th>ordinal__Prior_Arrest_Episodes_Property</th>\n",
       "      <th>ordinal__Prior_Arrest_Episodes_Drug</th>\n",
       "      <th>ordinal__Prior_Arrest_Episodes_PPViolationCharges</th>\n",
       "      <th>...</th>\n",
       "      <th>oneHot__x15_True</th>\n",
       "      <th>oneHot__x16_True</th>\n",
       "      <th>oneHot__x17_True</th>\n",
       "      <th>oneHot__x18_True</th>\n",
       "      <th>oneHot__x19_True</th>\n",
       "      <th>oneHot__x20_True</th>\n",
       "      <th>oneHot__x21_Negative</th>\n",
       "      <th>oneHot__x21_Positive</th>\n",
       "      <th>oneHot__x21_Unknown</th>\n",
       "      <th>scaler__Supervision_Risk_Score_First</th>\n",
       "    </tr>\n",
       "  </thead>\n",
       "  <tbody>\n",
       "    <tr>\n",
       "      <th>0</th>\n",
       "      <td>-0.252134</td>\n",
       "      <td>0.037005</td>\n",
       "      <td>0.0</td>\n",
       "      <td>-0.117505</td>\n",
       "      <td>0.060337</td>\n",
       "      <td>0.042571</td>\n",
       "      <td>0.049241</td>\n",
       "      <td>0.062713</td>\n",
       "      <td>0.006489</td>\n",
       "      <td>0.097514</td>\n",
       "      <td>...</td>\n",
       "      <td>-0.033446</td>\n",
       "      <td>0.051488</td>\n",
       "      <td>0.249254</td>\n",
       "      <td>0.0</td>\n",
       "      <td>-0.055261</td>\n",
       "      <td>-0.091208</td>\n",
       "      <td>-0.224899</td>\n",
       "      <td>0.0</td>\n",
       "      <td>0.163647</td>\n",
       "      <td>0.065305</td>\n",
       "    </tr>\n",
       "  </tbody>\n",
       "</table>\n",
       "<p>1 rows × 78 columns</p>\n",
       "</div>"
      ],
      "text/plain": [
       "   ordinal__Age_at_Release  ordinal__Education_Level  ordinal__Dependents  \\\n",
       "0                -0.252134                  0.037005                  0.0   \n",
       "\n",
       "   ordinal__Prison_Years  ordinal__Prior_Arrest_Episodes_Felony  \\\n",
       "0              -0.117505                               0.060337   \n",
       "\n",
       "   ordinal__Prior_Arrest_Episodes_Misd  \\\n",
       "0                             0.042571   \n",
       "\n",
       "   ordinal__Prior_Arrest_Episodes_Violent  \\\n",
       "0                                0.049241   \n",
       "\n",
       "   ordinal__Prior_Arrest_Episodes_Property  \\\n",
       "0                                 0.062713   \n",
       "\n",
       "   ordinal__Prior_Arrest_Episodes_Drug  \\\n",
       "0                             0.006489   \n",
       "\n",
       "   ordinal__Prior_Arrest_Episodes_PPViolationCharges  ...  oneHot__x15_True  \\\n",
       "0                                           0.097514  ...         -0.033446   \n",
       "\n",
       "   oneHot__x16_True  oneHot__x17_True  oneHot__x18_True  oneHot__x19_True  \\\n",
       "0          0.051488          0.249254               0.0         -0.055261   \n",
       "\n",
       "   oneHot__x20_True  oneHot__x21_Negative  oneHot__x21_Positive  \\\n",
       "0         -0.091208             -0.224899                   0.0   \n",
       "\n",
       "   oneHot__x21_Unknown  scaler__Supervision_Risk_Score_First  \n",
       "0             0.163647                              0.065305  \n",
       "\n",
       "[1 rows x 78 columns]"
      ]
     },
     "execution_count": 42,
     "metadata": {},
     "output_type": "execute_result"
    }
   ],
   "source": [
    "pd.DataFrame(lr_coef, columns = feature_cols)"
   ]
  },
  {
   "cell_type": "code",
   "execution_count": 40,
   "id": "5ce1fec4-a393-42af-b70e-5a1d1e1900c4",
   "metadata": {},
   "outputs": [
    {
     "name": "stderr",
     "output_type": "stream",
     "text": [
      "/var/folders/_5/sr8bhchn1_qg6q8wr7yfv96w0000gn/T/ipykernel_17446/938482201.py:31: UserWarning: Transformer ordinal (type OrdinalEncoder) does not provide get_feature_names. Will return input column names if available\n",
      "  warnings.warn(\"Transformer %s (type %s) does not \"\n",
      "/Users/thomaschampion/opt/anaconda3/envs/recidivism/lib/python3.9/site-packages/sklearn/utils/deprecation.py:87: FutureWarning: Function get_feature_names is deprecated; get_feature_names is deprecated in 1.0 and will be removed in 1.2. Please use get_feature_names_out instead.\n",
      "  warnings.warn(msg, category=FutureWarning)\n",
      "/var/folders/_5/sr8bhchn1_qg6q8wr7yfv96w0000gn/T/ipykernel_17446/938482201.py:31: UserWarning: Transformer scaler (type StandardScaler) does not provide get_feature_names. Will return input column names if available\n",
      "  warnings.warn(\"Transformer %s (type %s) does not \"\n"
     ]
    },
    {
     "data": {
      "text/plain": [
       "['ordinal__Age_at_Release',\n",
       " 'ordinal__Education_Level',\n",
       " 'ordinal__Dependents',\n",
       " 'ordinal__Prison_Years',\n",
       " 'ordinal__Prior_Arrest_Episodes_Felony',\n",
       " 'ordinal__Prior_Arrest_Episodes_Misd',\n",
       " 'ordinal__Prior_Arrest_Episodes_Violent',\n",
       " 'ordinal__Prior_Arrest_Episodes_Property',\n",
       " 'ordinal__Prior_Arrest_Episodes_Drug',\n",
       " 'ordinal__Prior_Arrest_Episodes_PPViolationCharges',\n",
       " 'ordinal__Prior_Conviction_Episodes_Felony',\n",
       " 'ordinal__Prior_Conviction_Episodes_Misd',\n",
       " 'ordinal__Prior_Conviction_Episodes_Prop',\n",
       " 'ordinal__Prior_Conviction_Episodes_Drug',\n",
       " 'ordinal__Delinquency_Reports',\n",
       " 'ordinal__Program_Attendances',\n",
       " 'ordinal__Program_UnexcusedAbsences',\n",
       " 'ordinal__Residence_Changes',\n",
       " 'ordinal__Percent_Days_Employed',\n",
       " 'oneHot__x0_M',\n",
       " 'oneHot__x1_WHITE',\n",
       " 'oneHot__x2_1',\n",
       " 'oneHot__x2_2',\n",
       " 'oneHot__x2_3',\n",
       " 'oneHot__x2_4',\n",
       " 'oneHot__x2_5',\n",
       " 'oneHot__x2_6',\n",
       " 'oneHot__x2_7',\n",
       " 'oneHot__x2_8',\n",
       " 'oneHot__x2_9',\n",
       " 'oneHot__x2_10',\n",
       " 'oneHot__x2_11',\n",
       " 'oneHot__x2_12',\n",
       " 'oneHot__x2_13',\n",
       " 'oneHot__x2_14',\n",
       " 'oneHot__x2_15',\n",
       " 'oneHot__x2_16',\n",
       " 'oneHot__x2_17',\n",
       " 'oneHot__x2_18',\n",
       " 'oneHot__x2_19',\n",
       " 'oneHot__x2_20',\n",
       " 'oneHot__x2_21',\n",
       " 'oneHot__x2_22',\n",
       " 'oneHot__x2_23',\n",
       " 'oneHot__x2_24',\n",
       " 'oneHot__x2_25',\n",
       " 'oneHot__x3_False',\n",
       " 'oneHot__x3_True',\n",
       " 'oneHot__x3_Unknown',\n",
       " 'oneHot__x4_High',\n",
       " 'oneHot__x4_Specialized',\n",
       " 'oneHot__x4_Standard',\n",
       " 'oneHot__x4_Unknown',\n",
       " 'oneHot__x5_Drug',\n",
       " 'oneHot__x5_Other',\n",
       " 'oneHot__x5_Property',\n",
       " 'oneHot__x5_Unknown',\n",
       " 'oneHot__x5_Violent/Non-Sex',\n",
       " 'oneHot__x5_Violent/Sex',\n",
       " 'oneHot__x6_True',\n",
       " 'oneHot__x7_True',\n",
       " 'oneHot__x8_True',\n",
       " 'oneHot__x9_True',\n",
       " 'oneHot__x10_True',\n",
       " 'oneHot__x11_True',\n",
       " 'oneHot__x12_True',\n",
       " 'oneHot__x13_True',\n",
       " 'oneHot__x14_True',\n",
       " 'oneHot__x15_True',\n",
       " 'oneHot__x16_True',\n",
       " 'oneHot__x17_True',\n",
       " 'oneHot__x18_True',\n",
       " 'oneHot__x19_True',\n",
       " 'oneHot__x20_True',\n",
       " 'oneHot__x21_Negative',\n",
       " 'oneHot__x21_Positive',\n",
       " 'oneHot__x21_Unknown',\n",
       " 'scaler__Supervision_Risk_Score_First']"
      ]
     },
     "execution_count": 40,
     "metadata": {},
     "output_type": "execute_result"
    }
   ],
   "source": [
    "get_feature_names(lr_pipeline['columnTransformer'])"
   ]
  },
  {
   "cell_type": "markdown",
   "id": "94356ee6-6c38-4def-bbd5-d24d53d25b1d",
   "metadata": {},
   "source": [
    "# Scores by Race"
   ]
  },
  {
   "cell_type": "code",
   "execution_count": 35,
   "id": "490231af-fa1a-4a04-aed4-b70ebbeef8a6",
   "metadata": {},
   "outputs": [],
   "source": [
    "Filter = X_test['Race'] == 'BLACK'"
   ]
  },
  {
   "cell_type": "code",
   "execution_count": 36,
   "id": "45c8441d-3a64-4c95-8dcc-e135b5e6d3bb",
   "metadata": {},
   "outputs": [],
   "source": [
    "X_testb = X_test[Filter]"
   ]
  },
  {
   "cell_type": "code",
   "execution_count": 37,
   "id": "db5612a5-b3b6-488b-9629-f69dec51d7f8",
   "metadata": {},
   "outputs": [],
   "source": [
    "y_testb = y_test[Filter]"
   ]
  },
  {
   "cell_type": "code",
   "execution_count": 38,
   "id": "ac47b872-1154-47bd-89b0-4456e68ead72",
   "metadata": {},
   "outputs": [],
   "source": [
    "X_testw = X_test[-Filter]"
   ]
  },
  {
   "cell_type": "code",
   "execution_count": 39,
   "id": "98add7ee-f8df-46a7-89bd-26369d130ecb",
   "metadata": {},
   "outputs": [],
   "source": [
    "y_testw = y_test[-Filter]"
   ]
  },
  {
   "cell_type": "code",
   "execution_count": 40,
   "id": "0d7aa0ca-cabb-405c-9cbd-9d58cacc076b",
   "metadata": {},
   "outputs": [],
   "source": [
    "dt_scores_w, dt_display_w =  calc_scores(dt_cv, X_testw, y_testw, 'LRw')\n",
    "dt_scores_b, dt_display_b =  calc_scores(dt_cv, X_testb, y_testb, 'LRb')"
   ]
  },
  {
   "cell_type": "code",
   "execution_count": 41,
   "id": "c2f877ae-174c-4899-a503-a420d883f645",
   "metadata": {},
   "outputs": [
    {
     "data": {
      "text/plain": [
       "[0.38860103626943004,\n",
       " 0.6481876332622601,\n",
       " 0.6359832635983264,\n",
       " 0.6608695652173913,\n",
       " 0.6078623214543355]"
      ]
     },
     "execution_count": 41,
     "metadata": {},
     "output_type": "execute_result"
    }
   ],
   "source": [
    "dt_scores_w"
   ]
  },
  {
   "cell_type": "code",
   "execution_count": 42,
   "id": "2832714c-836c-473c-b20c-c4fd8025ad0f",
   "metadata": {},
   "outputs": [
    {
     "data": {
      "text/plain": [
       "[0.4039201960098005,\n",
       " 0.6641443538998837,\n",
       " 0.6614492753623188,\n",
       " 0.6668614845119814,\n",
       " 0.5789578532288626]"
      ]
     },
     "execution_count": 42,
     "metadata": {},
     "output_type": "execute_result"
    }
   ],
   "source": [
    "dt_scores_b"
   ]
  },
  {
   "cell_type": "code",
   "execution_count": null,
   "id": "82658979-4189-47e1-9772-80f4ee946218",
   "metadata": {},
   "outputs": [],
   "source": []
  },
  {
   "cell_type": "code",
   "execution_count": null,
   "id": "98afa768-6ab2-46e8-a20c-43a53864457e",
   "metadata": {},
   "outputs": [],
   "source": []
  }
 ],
 "metadata": {
  "kernelspec": {
   "display_name": "Python 3 (ipykernel)",
   "language": "python",
   "name": "python3"
  },
  "language_info": {
   "codemirror_mode": {
    "name": "ipython",
    "version": 3
   },
   "file_extension": ".py",
   "mimetype": "text/x-python",
   "name": "python",
   "nbconvert_exporter": "python",
   "pygments_lexer": "ipython3",
   "version": "3.9.7"
  }
 },
 "nbformat": 4,
 "nbformat_minor": 5
}
